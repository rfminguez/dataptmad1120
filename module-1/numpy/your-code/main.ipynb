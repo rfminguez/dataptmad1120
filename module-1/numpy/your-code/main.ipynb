{
 "cells": [
  {
   "cell_type": "markdown",
   "metadata": {},
   "source": [
    "# Introduction to NumPy\n",
    "\n",
    "\n",
    "#### 1. Import NumPy under the name np."
   ]
  },
  {
   "cell_type": "code",
   "execution_count": 49,
   "metadata": {},
   "outputs": [],
   "source": [
    "import numpy as np"
   ]
  },
  {
   "cell_type": "markdown",
   "metadata": {},
   "source": [
    "#### 2. Print your NumPy version."
   ]
  },
  {
   "cell_type": "code",
   "execution_count": 50,
   "metadata": {},
   "outputs": [
    {
     "name": "stdout",
     "output_type": "stream",
     "text": [
      "1.18.5\n"
     ]
    }
   ],
   "source": [
    "print(np.__version__)"
   ]
  },
  {
   "cell_type": "markdown",
   "metadata": {},
   "source": [
    "#### 3. Generate a 2x3x5 3-dimensional array with random values. Assign the array to variable *a*.\n",
    "**Challenge**: there are at least three easy ways that use numpy to generate random arrays. How many ways can you find?"
   ]
  },
  {
   "cell_type": "code",
   "execution_count": 60,
   "metadata": {},
   "outputs": [
    {
     "name": "stdout",
     "output_type": "stream",
     "text": [
      "(2, 3, 5)\n"
     ]
    }
   ],
   "source": [
    "a = np.random.random((2, 3, 5))\n",
    "print(a.shape)"
   ]
  },
  {
   "cell_type": "code",
   "execution_count": 61,
   "metadata": {},
   "outputs": [
    {
     "name": "stdout",
     "output_type": "stream",
     "text": [
      "(2, 3, 5)\n"
     ]
    }
   ],
   "source": [
    "a = np.random.randint(low = 0, high = 101, size = (2, 3, 5))\n",
    "print(a.shape)"
   ]
  },
  {
   "cell_type": "code",
   "execution_count": 62,
   "metadata": {},
   "outputs": [],
   "source": [
    "# Method 3"
   ]
  },
  {
   "cell_type": "markdown",
   "metadata": {},
   "source": [
    "#### 4. Print *a*.\n"
   ]
  },
  {
   "cell_type": "code",
   "execution_count": 63,
   "metadata": {},
   "outputs": [
    {
     "name": "stdout",
     "output_type": "stream",
     "text": [
      "[[[40 43 67 89 90]\n",
      "  [34 88 81 94 99]\n",
      "  [23 61 55  0 97]]\n",
      "\n",
      " [[17 14 53 35 79]\n",
      "  [76 61 24 60 51]\n",
      "  [85 75 20 68 88]]]\n"
     ]
    }
   ],
   "source": [
    "print(a)"
   ]
  },
  {
   "cell_type": "markdown",
   "metadata": {},
   "source": [
    "#### 5. Create a 5x2x3 3-dimensional array with all values equaling 1. Assign the array to variable *b*."
   ]
  },
  {
   "cell_type": "code",
   "execution_count": 64,
   "metadata": {},
   "outputs": [
    {
     "name": "stdout",
     "output_type": "stream",
     "text": [
      "(5, 2, 3)\n"
     ]
    }
   ],
   "source": [
    "b = np.ones((5, 2, 3))\n",
    "print(b.shape)"
   ]
  },
  {
   "cell_type": "markdown",
   "metadata": {},
   "source": [
    "#### 6. Print *b*.\n"
   ]
  },
  {
   "cell_type": "code",
   "execution_count": 65,
   "metadata": {},
   "outputs": [
    {
     "name": "stdout",
     "output_type": "stream",
     "text": [
      "[[[1. 1. 1.]\n",
      "  [1. 1. 1.]]\n",
      "\n",
      " [[1. 1. 1.]\n",
      "  [1. 1. 1.]]\n",
      "\n",
      " [[1. 1. 1.]\n",
      "  [1. 1. 1.]]\n",
      "\n",
      " [[1. 1. 1.]\n",
      "  [1. 1. 1.]]\n",
      "\n",
      " [[1. 1. 1.]\n",
      "  [1. 1. 1.]]]\n"
     ]
    }
   ],
   "source": [
    "print(b)"
   ]
  },
  {
   "cell_type": "markdown",
   "metadata": {},
   "source": [
    "#### 7. Do *a* and *b* have the same size? How do you prove that in Python code?"
   ]
  },
  {
   "cell_type": "code",
   "execution_count": 67,
   "metadata": {},
   "outputs": [
    {
     "name": "stdout",
     "output_type": "stream",
     "text": [
      "Tienen el mismo size\n",
      "30\n",
      "30\n"
     ]
    }
   ],
   "source": [
    "print(\"Tienen el mismo size\" if a.size == b.size else \"No tienen el mismo size\")\n",
    "print(a.size)\n",
    "print(b.size)"
   ]
  },
  {
   "cell_type": "markdown",
   "metadata": {},
   "source": [
    "#### 8. Are you able to add *a* and *b*? Why or why not?\n"
   ]
  },
  {
   "cell_type": "code",
   "execution_count": 69,
   "metadata": {},
   "outputs": [],
   "source": [
    "# No se pueden sumar directamente porque tienen distintas dimensiones (a tiene 2x3x5 y b 5x2x3)"
   ]
  },
  {
   "cell_type": "markdown",
   "metadata": {},
   "source": [
    "#### 9. Transpose *b* so that it has the same structure of *a* (i.e. become a 2x3x5 array). Assign the transposed array to variable *c*."
   ]
  },
  {
   "cell_type": "code",
   "execution_count": 78,
   "metadata": {},
   "outputs": [
    {
     "name": "stdout",
     "output_type": "stream",
     "text": [
      "(2, 3, 5)\n"
     ]
    }
   ],
   "source": [
    "c = b.transpose((1, 2, 0))\n",
    "print(c.shape)"
   ]
  },
  {
   "cell_type": "markdown",
   "metadata": {},
   "source": [
    "#### 10. Try to add *a* and *c*. Now it should work. Assign the sum to variable *d*. But why does it work now?"
   ]
  },
  {
   "cell_type": "code",
   "execution_count": 80,
   "metadata": {},
   "outputs": [],
   "source": [
    "# Podemos sumar matrices con las mismas dimensiones (en este caso ambas tienen 2x3x5)\n",
    "d = a + c"
   ]
  },
  {
   "cell_type": "markdown",
   "metadata": {},
   "source": [
    "#### 11. Print *a* and *d*. Notice the difference and relation of the two array in terms of the values? Explain."
   ]
  },
  {
   "cell_type": "code",
   "execution_count": 85,
   "metadata": {},
   "outputs": [
    {
     "name": "stdout",
     "output_type": "stream",
     "text": [
      "[[[40 43 67 89 90]\n",
      "  [34 88 81 94 99]\n",
      "  [23 61 55  0 97]]\n",
      "\n",
      " [[17 14 53 35 79]\n",
      "  [76 61 24 60 51]\n",
      "  [85 75 20 68 88]]]\n",
      "[[[ 41.  44.  68.  90.  91.]\n",
      "  [ 35.  89.  82.  95. 100.]\n",
      "  [ 24.  62.  56.   1.  98.]]\n",
      "\n",
      " [[ 18.  15.  54.  36.  80.]\n",
      "  [ 77.  62.  25.  61.  52.]\n",
      "  [ 86.  76.  21.  69.  89.]]]\n"
     ]
    }
   ],
   "source": [
    "print(a)\n",
    "print(d)\n",
    "# Los valores en d son tipo float porque la matriz b de la que viene c son también floats (concretamente 1.0)"
   ]
  },
  {
   "cell_type": "markdown",
   "metadata": {},
   "source": [
    "#### 12. Multiply *a* and *c*. Assign the result to *e*."
   ]
  },
  {
   "cell_type": "code",
   "execution_count": 91,
   "metadata": {},
   "outputs": [
    {
     "name": "stdout",
     "output_type": "stream",
     "text": [
      "[[[40. 43. 67. 89. 90.]\n",
      "  [34. 88. 81. 94. 99.]\n",
      "  [23. 61. 55.  0. 97.]]\n",
      "\n",
      " [[17. 14. 53. 35. 79.]\n",
      "  [76. 61. 24. 60. 51.]\n",
      "  [85. 75. 20. 68. 88.]]]\n"
     ]
    }
   ],
   "source": [
    "e = a * c\n",
    "print(e)"
   ]
  },
  {
   "cell_type": "markdown",
   "metadata": {},
   "source": [
    "#### 13. Does *e* equal to *a*? Why or why not?\n"
   ]
  },
  {
   "cell_type": "code",
   "execution_count": 92,
   "metadata": {},
   "outputs": [
    {
     "name": "stdout",
     "output_type": "stream",
     "text": [
      "[[[40 43 67 89 90]\n",
      "  [34 88 81 94 99]\n",
      "  [23 61 55  0 97]]\n",
      "\n",
      " [[17 14 53 35 79]\n",
      "  [76 61 24 60 51]\n",
      "  [85 75 20 68 88]]]\n",
      "[[[40. 43. 67. 89. 90.]\n",
      "  [34. 88. 81. 94. 99.]\n",
      "  [23. 61. 55.  0. 97.]]\n",
      "\n",
      " [[17. 14. 53. 35. 79.]\n",
      "  [76. 61. 24. 60. 51.]\n",
      "  [85. 75. 20. 68. 88.]]]\n"
     ]
    }
   ],
   "source": [
    "print(a)\n",
    "print(e)\n",
    "# La matriz c es una matriz con unos. Por eso al multiplicar elemento a elemento \n",
    "# la matriz a por el elemento de la matriz c nos da el mismo resultado."
   ]
  },
  {
   "cell_type": "markdown",
   "metadata": {},
   "source": [
    "#### 14. Identify the max, min, and mean values in *d*. Assign those values to variables *d_max*, *d_min* and *d_mean*."
   ]
  },
  {
   "cell_type": "code",
   "execution_count": 93,
   "metadata": {},
   "outputs": [
    {
     "name": "stdout",
     "output_type": "stream",
     "text": [
      "100.0\n",
      "1.0\n",
      "59.9\n"
     ]
    }
   ],
   "source": [
    "d_max = d.max()\n",
    "d_min = d.min()\n",
    "d_mean = d.mean()\n",
    "\n",
    "print(d_max)\n",
    "print(d_min)\n",
    "print(d_mean)"
   ]
  },
  {
   "cell_type": "markdown",
   "metadata": {},
   "source": [
    "#### 15. Now we want to label the values in *d*. First create an empty array *f* with the same shape (i.e. 2x3x5) as *d* using `np.empty`.\n"
   ]
  },
  {
   "cell_type": "code",
   "execution_count": 98,
   "metadata": {},
   "outputs": [
    {
     "name": "stdout",
     "output_type": "stream",
     "text": [
      "(2, 3, 5)\n"
     ]
    }
   ],
   "source": [
    "f = np.empty((2, 3, 5))\n",
    "print(f.shape)"
   ]
  },
  {
   "cell_type": "markdown",
   "metadata": {},
   "source": [
    "#### 16. Populate the values in *f*. \n",
    "\n",
    "For each value in *d*, if it's larger than *d_min* but smaller than *d_mean*, assign 25 to the corresponding value in *f*. If a value in *d* is larger than *d_mean* but smaller than *d_max*, assign 75 to the corresponding value in *f*. If a value equals to *d_mean*, assign 50 to the corresponding value in *f*. Assign 0 to the corresponding value(s) in *f* for *d_min* in *d*. Assign 100 to the corresponding value(s) in *f* for *d_max* in *d*. In the end, f should have only the following values: 0, 25, 50, 75, and 100.\n",
    "\n",
    "**Note**: you don't have to use Numpy in this question."
   ]
  },
  {
   "cell_type": "code",
   "execution_count": 104,
   "metadata": {},
   "outputs": [
    {
     "name": "stdout",
     "output_type": "stream",
     "text": [
      "[[[ 41.  44.  68.  90.  91.]\n",
      "  [ 35.  89.  82.  95. 100.]\n",
      "  [ 24.  62.  56.   1.  98.]]\n",
      "\n",
      " [[ 18.  15.  54.  36.  80.]\n",
      "  [ 77.  62.  25.  61.  52.]\n",
      "  [ 86.  76.  21.  69.  89.]]]\n",
      "[[[ 25.  25.  75.  75.  75.]\n",
      "  [ 25.  75.  75.  75. 100.]\n",
      "  [ 25.  75.  25.   0.  75.]]\n",
      "\n",
      " [[ 25.  25.  25.  25.  75.]\n",
      "  [ 75.  75.  25.  75.  25.]\n",
      "  [ 75.  75.  25.  75.  75.]]]\n"
     ]
    }
   ],
   "source": [
    "for i in range(len(d)):\n",
    "    for j in range(len(d[i])):\n",
    "        for k in range(len(d[i, j])):\n",
    "            val = d[i, j, k]\n",
    "            if val > d_min and val < d_mean:\n",
    "                f[i, j, k] = 25\n",
    "            elif val > d_mean and val < d_max:\n",
    "                f[i, j, k] = 75\n",
    "            elif val == d_mean:\n",
    "                f[i, j, k] = 50\n",
    "            elif val == d_min:\n",
    "                f[i, j, k] = 0\n",
    "            else:\n",
    "                f[i, j, k] = 100\n"
   ]
  },
  {
   "cell_type": "markdown",
   "metadata": {},
   "source": [
    "#### 17. Print *d* and *f*. Do you have your expected *f*?\n",
    "For instance, if your *d* is:\n",
    "```python\n",
    "[[[1.85836099, 1.67064465, 1.62576044, 1.40243961, 1.88454931],\n",
    "[1.75354326, 1.69403643, 1.36729252, 1.61415071, 1.12104981],\n",
    "[1.72201435, 1.1862918 , 1.87078449, 1.7726778 , 1.88180042]],\n",
    "[[1.44747908, 1.31673383, 1.02000951, 1.52218947, 1.97066381],\n",
    "[1.79129243, 1.74983003, 1.96028037, 1.85166831, 1.65450881],\n",
    "[1.18068344, 1.9587381 , 1.00656599, 1.93402165, 1.73514584]]]\n",
    "```\n",
    "Your *f* should be:\n",
    "```python\n",
    "[[[ 75.,  75.,  75.,  25.,  75.],\n",
    "[ 75.,  75.,  25.,  25.,  25.],\n",
    "[ 75.,  25.,  75.,  75.,  75.]],\n",
    "[[ 25.,  25.,  25.,  25., 100.],\n",
    "[ 75.,  75.,  75.,  75.,  75.],\n",
    "[ 25.,  75.,   0.,  75.,  75.]]]\n",
    "```"
   ]
  },
  {
   "cell_type": "code",
   "execution_count": 105,
   "metadata": {},
   "outputs": [
    {
     "name": "stdout",
     "output_type": "stream",
     "text": [
      "[[[ 41.  44.  68.  90.  91.]\n",
      "  [ 35.  89.  82.  95. 100.]\n",
      "  [ 24.  62.  56.   1.  98.]]\n",
      "\n",
      " [[ 18.  15.  54.  36.  80.]\n",
      "  [ 77.  62.  25.  61.  52.]\n",
      "  [ 86.  76.  21.  69.  89.]]]\n",
      "[[[ 25.  25.  75.  75.  75.]\n",
      "  [ 25.  75.  75.  75. 100.]\n",
      "  [ 25.  75.  25.   0.  75.]]\n",
      "\n",
      " [[ 25.  25.  25.  25.  75.]\n",
      "  [ 75.  75.  25.  75.  25.]\n",
      "  [ 75.  75.  25.  75.  75.]]]\n"
     ]
    }
   ],
   "source": [
    "print(d)\n",
    "print(f)"
   ]
  },
  {
   "cell_type": "markdown",
   "metadata": {},
   "source": [
    "#### 18. Bonus question: instead of using numbers (i.e. 0, 25, 50, 75, and 100), use string values  (\"A\", \"B\", \"C\", \"D\", and \"E\") to label the array elements. For the example above, the expected result is:\n",
    "\n",
    "```python\n",
    "[[[ 'D',  'D',  'D',  'B',  'D'],\n",
    "[ 'D',  'D',  'B',  'B',  'B'],\n",
    "[ 'D',  'B',  'D',  'D',  'D']],\n",
    "[[ 'B',  'B',  'B',  'B',  'E'],\n",
    "[ 'D',  'D',  'D',  'D',  'D'],\n",
    "[ 'B',  'D',   'A',  'D', 'D']]]\n",
    "```\n",
    "**Note**: you don't have to use Numpy in this question."
   ]
  },
  {
   "cell_type": "code",
   "execution_count": 109,
   "metadata": {},
   "outputs": [
    {
     "name": "stdout",
     "output_type": "stream",
     "text": [
      "[[[ 41.  44.  68.  90.  91.]\n",
      "  [ 35.  89.  82.  95. 100.]\n",
      "  [ 24.  62.  56.   1.  98.]]\n",
      "\n",
      " [[ 18.  15.  54.  36.  80.]\n",
      "  [ 77.  62.  25.  61.  52.]\n",
      "  [ 86.  76.  21.  69.  89.]]]\n",
      "[[['B' 'B' 'D' 'D' 'D']\n",
      "  ['B' 'D' 'D' 'D' 'E']\n",
      "  ['B' 'D' 'B' 'A' 'D']]\n",
      "\n",
      " [['B' 'B' 'B' 'B' 'D']\n",
      "  ['D' 'D' 'B' 'D' 'B']\n",
      "  ['D' 'D' 'B' 'D' 'D']]]\n"
     ]
    }
   ],
   "source": [
    "# Primero creo un nuevo array f\n",
    "f = np.empty((2, 3, 5))\n",
    "\n",
    "# Luego le cambio el tipo de datos para que acepte strings\n",
    "f = f.astype('object')\n",
    "\n",
    "# Uso el mismo for que en el ejercicio anterior pero con letras\n",
    "for i in range(len(d)):\n",
    "    for j in range(len(d[i])):\n",
    "        for k in range(len(d[i, j])):\n",
    "            val = d[i, j, k]\n",
    "            if val > d_min and val < d_mean:\n",
    "                f[i, j, k] = \"B\"\n",
    "            elif val > d_mean and val < d_max:\n",
    "                f[i, j, k] = \"D\"\n",
    "            elif val == d_mean:\n",
    "                f[i, j, k] = \"C\"\n",
    "            elif val == d_min:\n",
    "                f[i, j, k] = \"A\"\n",
    "            else:\n",
    "                f[i, j, k] = \"E\"\n",
    "\n",
    "# Muestro los resultados\n",
    "print(d)\n",
    "print(f)"
   ]
  },
  {
   "cell_type": "markdown",
   "metadata": {},
   "source": [
    "# Bonus Katas:\n",
    "https://www.codewars.com/kata/insert-dashes"
   ]
  },
  {
   "cell_type": "code",
   "execution_count": null,
   "metadata": {},
   "outputs": [],
   "source": [
    "def is_odd(num):\n",
    "    return int(num) % 2 != 0\n",
    "\n",
    "def insert_dash(num):\n",
    "    num_as_str = str(num)\n",
    "    result = num_as_str[0]\n",
    "    for i in range(1, len(num_as_str)):\n",
    "        if is_odd(num_as_str[i - 1]) and is_odd(num_as_str[i]):\n",
    "            result += \"-\"\n",
    "        result += num_as_str[i]\n",
    "            \n",
    "    return result"
   ]
  },
  {
   "cell_type": "markdown",
   "metadata": {},
   "source": [
    "https://www.codewars.com/kata/thinkful-logic-drills-red-and-bumpy"
   ]
  },
  {
   "cell_type": "code",
   "execution_count": null,
   "metadata": {},
   "outputs": [],
   "source": [
    "def color_probability(color, texture):\n",
    "    prob = {}\n",
    "    prob[\"bumpy\"] = {}\n",
    "    prob[\"smooth\"] = {}\n",
    "\n",
    "    prob[\"bumpy\"][\"red\"] = 4 / 7\n",
    "    prob[\"bumpy\"][\"yellow\"] = 2 / 7\n",
    "    prob[\"bumpy\"][\"green\"] = 1 / 7\n",
    "    \n",
    "    prob[\"smooth\"][\"red\"] = 1 / 3\n",
    "    prob[\"smooth\"][\"yellow\"] = 1 / 3\n",
    "    prob[\"smooth\"][\"green\"] = 1 / 3\n",
    "    \n",
    "    return str(prob[texture][color])[:4]"
   ]
  }
 ],
 "metadata": {
  "kernelspec": {
   "display_name": "Python [conda env:ironhack_env]",
   "language": "python",
   "name": "conda-env-ironhack_env-py"
  },
  "language_info": {
   "codemirror_mode": {
    "name": "ipython",
    "version": 3
   },
   "file_extension": ".py",
   "mimetype": "text/x-python",
   "name": "python",
   "nbconvert_exporter": "python",
   "pygments_lexer": "ipython3",
   "version": "3.8.5"
  }
 },
 "nbformat": 4,
 "nbformat_minor": 4
}
