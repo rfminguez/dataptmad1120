{
 "cells": [
  {
   "cell_type": "markdown",
   "metadata": {},
   "source": [
    "# Web Scraping Lab\n",
    "\n",
    "You will find in this notebook some scrapy exercises to practise your scraping skills.\n",
    "\n",
    "**Tips:**\n",
    "\n",
    "- Check the response status code for each request to ensure you have obtained the intended content.\n",
    "- Print the response text in each request to understand the kind of info you are getting and its format.\n",
    "- Check for patterns in the response text to extract the data/info requested in each question.\n",
    "- Visit the urls below and take a look at their source code through Chrome DevTools. You'll need to identify the html tags, special class names, etc used in the html content you are expected to extract.\n",
    "\n",
    "**Resources**:\n",
    "- [Requests library](http://docs.python-requests.org/en/master/#the-user-guide)\n",
    "- [Beautiful Soup Doc](https://www.crummy.com/software/BeautifulSoup/bs4/doc/)\n",
    "- [Urllib](https://docs.python.org/3/library/urllib.html#module-urllib)\n",
    "- [re lib](https://docs.python.org/3/library/re.html)\n",
    "- [lxml lib](https://lxml.de/)\n",
    "- [Scrapy](https://scrapy.org/)\n",
    "- [List of HTTP status codes](https://en.wikipedia.org/wiki/List_of_HTTP_status_codes)\n",
    "- [HTML basics](http://www.simplehtmlguide.com/cheatsheet.php)\n",
    "- [CSS basics](https://www.cssbasics.com/#page_start)"
   ]
  },
  {
   "cell_type": "markdown",
   "metadata": {},
   "source": [
    "#### Below are the libraries and modules you may need. `requests`,  `BeautifulSoup` and `pandas` are already imported for you. If you prefer to use additional libraries feel free to do it."
   ]
  },
  {
   "cell_type": "code",
   "execution_count": 1,
   "metadata": {},
   "outputs": [],
   "source": [
    "import requests\n",
    "from bs4 import BeautifulSoup\n",
    "import pandas as pd"
   ]
  },
  {
   "cell_type": "markdown",
   "metadata": {},
   "source": [
    "#### Download, parse (using BeautifulSoup), and print the content from the Trending Developers page from GitHub:"
   ]
  },
  {
   "cell_type": "code",
   "execution_count": 2,
   "metadata": {},
   "outputs": [],
   "source": [
    "# This is the url you will scrape in this exercise\n",
    "url = 'https://github.com/trending/developers'"
   ]
  },
  {
   "cell_type": "code",
   "execution_count": null,
   "metadata": {},
   "outputs": [],
   "source": [
    "# your code here\n",
    "response = requests.get(url)\n",
    "soup = BeautifulSoup(response.text, \"html.parser\")\n",
    "print(soup)"
   ]
  },
  {
   "cell_type": "markdown",
   "metadata": {},
   "source": [
    "#### Display the names of the trending developers retrieved in the previous step.\n",
    "\n",
    "Your output should be a Python list of developer names. Each name should not contain any html tag.\n",
    "\n",
    "**Instructions:**\n",
    "\n",
    "1. Find out the html tag and class names used for the developer names. You can achieve this using Chrome DevTools.\n",
    "\n",
    "1. Use BeautifulSoup to extract all the html elements that contain the developer names.\n",
    "\n",
    "1. Use string manipulation techniques to replace whitespaces and linebreaks (i.e. `\\n`) in the *text* of each html element. Use a list to store the clean names.\n",
    "\n",
    "1. Print the list of names.\n",
    "\n",
    "Your output should look like below:\n",
    "\n",
    "```\n",
    "['trimstray (@trimstray)',\n",
    " 'joewalnes (JoeWalnes)',\n",
    " 'charlax (Charles-AxelDein)',\n",
    " 'ForrestKnight (ForrestKnight)',\n",
    " 'revery-ui (revery-ui)',\n",
    " 'alibaba (Alibaba)',\n",
    " 'Microsoft (Microsoft)',\n",
    " 'github (GitHub)',\n",
    " 'facebook (Facebook)',\n",
    " 'boazsegev (Bo)',\n",
    " 'google (Google)',\n",
    " 'cloudfetch',\n",
    " 'sindresorhus (SindreSorhus)',\n",
    " 'tensorflow',\n",
    " 'apache (TheApacheSoftwareFoundation)',\n",
    " 'DevonCrawford (DevonCrawford)',\n",
    " 'ARMmbed (ArmMbed)',\n",
    " 'vuejs (vuejs)',\n",
    " 'fastai (fast.ai)',\n",
    " 'QiShaoXuan (Qi)',\n",
    " 'joelparkerhenderson (JoelParkerHenderson)',\n",
    " 'torvalds (LinusTorvalds)',\n",
    " 'CyC2018',\n",
    " 'komeiji-satori (神楽坂覚々)',\n",
    " 'script-8']\n",
    " ```"
   ]
  },
  {
   "cell_type": "code",
   "execution_count": 3,
   "metadata": {},
   "outputs": [
    {
     "name": "stdout",
     "output_type": "stream",
     "text": [
      "['Michele Locati (mlocati)', 'Han Xiao (hanxiao)', 'Alon Zakai (kripken)', 'Ha Thach (hathach)', 'Joel Arvidsson (oblador)', 'Major Hayden (major)', 'Ahmet Alp Balkan (ahmetb)', 'Don Jayamanne (DonJayamanne)', 'Alexey Golub (Tyrrrz)', 'Diego Muracciole (diegomura)', 'Simen Bekkhus (SimenB)', 'Dan Davison (dandavison)', 'Mo Gorhom (gorhom)', 'José Padilla (jpadilla)', 'Yevgeniy Brikman (brikis98)', 'Thibault Duplessis (ornicar)', 'Nelson Osacky (runningcode)', 'Gleb Bahmutov (bahmutov)', 'Soledad Galli (solegalli)', 'Gerasimos (Makis) Maropoulos (kataras)', 'Nicolas P. Rougier (rougier)', 'snipe (snipe)', 'Anthony Sottile (asottile)', 'Julius Härtl (juliushaertl)', 'Samuel Colvin (samuelcolvin)']\n"
     ]
    }
   ],
   "source": [
    "# your code here\n",
    "response = requests.get(url)\n",
    "soup = BeautifulSoup(response.text, \"html.parser\")\n",
    "\n",
    "# Selecciono los tags con los nombres usando CSS selectors\n",
    "tags_with_names = soup.select(\"article h1.h3.lh-condensed a\")\n",
    "# Selecciono los tags con los aliases usando CSS selectors\n",
    "tags_with_aliases = soup.select(\"article p.f4.text-normal.mb-1 a\")\n",
    "\n",
    "names = [tag.text.strip() for tag in tags_with_names]\n",
    "aliases = [tag.text.strip() for tag in tags_with_aliases]\n",
    "\n",
    "zipped_names_aliases = list(zip(names, aliases))\n",
    "\n",
    "result = [f\"{t[0]} ({t[1]})\" for t in zipped_names_aliases]\n",
    "\n",
    "print(result)"
   ]
  },
  {
   "cell_type": "markdown",
   "metadata": {},
   "source": [
    "#### Display the trending Python repositories in GitHub.\n",
    "\n",
    "The steps to solve this problem is similar to the previous one except that you need to find out the repository names instead of developer names."
   ]
  },
  {
   "cell_type": "code",
   "execution_count": 4,
   "metadata": {},
   "outputs": [],
   "source": [
    "# This is the url you will scrape in this exercise\n",
    "url = 'https://github.com/trending/python?since=daily'"
   ]
  },
  {
   "cell_type": "code",
   "execution_count": 5,
   "metadata": {},
   "outputs": [
    {
     "name": "stdout",
     "output_type": "stream",
     "text": [
      "['jina-ai / jina', 'MTK-bypass / bypass_utility', 'ansible / awx', 'Asabeneh / 30-Days-Of-Python', 'PaddlePaddle / PaddleOCR', 'RyanElliott10 / wsbtickerbot', 'facebookresearch / detectron2', 'public-apis / public-apis', 'huggingface / transformers', 'OWASP / CheatSheetSeries', 'demisto / content', 'pandas-dev / pandas', 'facebookresearch / ParlAI', 'facebookresearch / detr', 'pytorch / vision', 'wagtail / wagtail', 'great-expectations / great_expectations', 'sanic-org / sanic', 'pytorch / fairseq', 'mingrammer / diagrams', 'nodejs / node-gyp', 'deepfakes / faceswap', 'Vonng / ddia', 'spulec / moto', 'samuelcolvin / pydantic']\n"
     ]
    }
   ],
   "source": [
    "# your code here\n",
    "response = requests.get(url)\n",
    "soup = BeautifulSoup(response.text, \"html.parser\")\n",
    "\n",
    "# Selecciono los tags con los nombres de los repositorios usando CSS selectors\n",
    "tags_with_repo_names = soup.select(\"article h1.h3.lh-condensed a\")\n",
    "\n",
    "# devuelve el repo en formato \"user_name / repo_name\" por lo que lo divido usando \"/\" como separador y aplico strip para quitar caracteres extraños\n",
    "repo_names = [f'{t.text.split(\"/\")[0].strip()} / {t.text.split(\"/\")[1].strip()}' for t in tags_with_repo_names]\n",
    "\n",
    "print(repo_names)"
   ]
  },
  {
   "cell_type": "markdown",
   "metadata": {},
   "source": [
    "#### Display all the image links from Walt Disney wikipedia page."
   ]
  },
  {
   "cell_type": "code",
   "execution_count": 6,
   "metadata": {},
   "outputs": [],
   "source": [
    "# This is the url you will scrape in this exercise\n",
    "url = 'https://en.wikipedia.org/wiki/Walt_Disney'"
   ]
  },
  {
   "cell_type": "code",
   "execution_count": 7,
   "metadata": {},
   "outputs": [
    {
     "name": "stdout",
     "output_type": "stream",
     "text": [
      "['/wiki/File:Walt_Disney_1946.JPG', '/wiki/File:Walt_Disney_1942_signature.svg', '/wiki/File:Walt_Disney_envelope_ca._1921.jpg', '/wiki/File:Trolley_Troubles_poster.jpg', '/wiki/File:Walt_Disney_and_his_cartoon_creation_%22Mickey_Mouse%22_-_National_Board_of_Review_Magazine.jpg', '/wiki/File:Steamboat-willie.jpg', '/wiki/File:Walt_Disney_1935.jpg', '/wiki/File:Walt_Disney_Snow_white_1937_trailer_screenshot_(13).jpg', '/wiki/File:Disney_drawing_goofy.jpg', '/wiki/File:DisneySchiphol1951.jpg', '/wiki/File:WaltDisneyplansDisneylandDec1954.jpg', '/wiki/File:Walt_disney_portrait_right.jpg', '/wiki/File:Walt_Disney_Grave.JPG', '/wiki/File:Roy_O._Disney_with_Company_at_Press_Conference.jpg', '/wiki/File:Disney_Display_Case.JPG', '/wiki/File:Disney1968.jpg', '/wiki/File:Animation_disc.svg', '/wiki/File:P_vip.svg', '/wiki/File:Magic_Kingdom_castle.jpg', '/wiki/File:Video-x-generic.svg', '/wiki/File:Flag_of_Los_Angeles_County,_California.svg', '/wiki/File:Blank_television_set.svg', '/wiki/File:Flag_of_the_United_States.svg']\n"
     ]
    }
   ],
   "source": [
    "# your code here\n",
    "response = requests.get(url)\n",
    "soup = BeautifulSoup(response.text, \"html.parser\")\n",
    "\n",
    "# Selecciono los tags de imagenes usando CSS selectors\n",
    "img_link_tags = soup.select(\"a.image\")\n",
    "\n",
    "img_links = [t[\"href\"] for t in img_link_tags]\n",
    "print(img_links)"
   ]
  },
  {
   "cell_type": "markdown",
   "metadata": {},
   "source": [
    "#### Retrieve an arbitary Wikipedia page of \"Python\" and create a list of links on that page."
   ]
  },
  {
   "cell_type": "code",
   "execution_count": 8,
   "metadata": {},
   "outputs": [],
   "source": [
    "# This is the url you will scrape in this exercise\n",
    "url ='https://en.wikipedia.org/wiki/Python' "
   ]
  },
  {
   "cell_type": "code",
   "execution_count": 9,
   "metadata": {},
   "outputs": [
    {
     "name": "stdout",
     "output_type": "stream",
     "text": [
      "<class 'list'>\n",
      "59\n",
      "La nueva URL es: https://mr.wikipedia.org/wiki/%E0%A4%AA%E0%A4%BE%E0%A4%AF%E0%A4%A5%E0%A5%89%E0%A4%A8_(%E0%A4%86%E0%A4%9C%E0%A5%8D%E0%A4%9E%E0%A4%BE%E0%A4%B5%E0%A4%B2%E0%A5%80_%E0%A4%AD%E0%A4%BE%E0%A4%B7%E0%A4%BE)\n",
      "\n",
      "['https://www.python.org', 'https://www.python.org/doc/essays/blurb/', 'https://www.python.org/dev/peps/pep-3120/', 'https://docs.python.org/3/license.html', 'https://python.org', 'https://docs.python.org', 'https://mr.wikipedia.org/w/index.php?title=%E0%A4%AA%E0%A4%BE%E0%A4%AF%E0%A4%A5%E0%A5%89%E0%A4%A8_(%E0%A4%86%E0%A4%9C%E0%A5%8D%E0%A4%9E%E0%A4%BE%E0%A4%B5%E0%A4%B2%E0%A5%80_%E0%A4%AD%E0%A4%BE%E0%A4%B7%E0%A4%BE)&action=edit', 'https://mr.wikipedia.org/w/index.php?title=पायथॉन_(आज्ञावली_भाषा)&oldid=1806561', 'https://www.wikidata.org/wiki/Special:EntityPage/Q747452', 'https://commons.wikimedia.org/wiki/Category:Python', 'https://af.wikipedia.org/wiki/Python', 'https://als.wikipedia.org/wiki/Python', 'https://ar.wikipedia.org/wiki/%D8%A8%D8%A7%D9%8A%D8%AB%D9%88%D9%86_(%D8%AA%D9%88%D8%B6%D9%8A%D8%AD)', 'https://az.wikipedia.org/wiki/Python', 'https://be.wikipedia.org/wiki/Python', 'https://bg.wikipedia.org/wiki/%D0%9F%D0%B8%D1%82%D0%BE%D0%BD_(%D0%BF%D0%BE%D1%8F%D1%81%D0%BD%D0%B5%D0%BD%D0%B8%D0%B5)', 'https://bn.wikipedia.org/wiki/%E0%A6%AA%E0%A6%BE%E0%A6%87%E0%A6%A5%E0%A6%A8_(%E0%A6%A6%E0%A7%8D%E0%A6%AC%E0%A7%8D%E0%A6%AF%E0%A6%B0%E0%A7%8D%E0%A6%A5%E0%A6%A4%E0%A6%BE_%E0%A6%A8%E0%A6%BF%E0%A6%B0%E0%A6%B8%E0%A6%A8)', 'https://cs.wikipedia.org/wiki/Python_(rozcestn%C3%ADk)', 'https://da.wikipedia.org/wiki/Python', 'https://de.wikipedia.org/wiki/Python', 'https://en.wikipedia.org/wiki/Python', 'https://eo.wikipedia.org/wiki/Pitono_(apartigilo)', 'https://eu.wikipedia.org/wiki/Python_(argipena)', 'https://fa.wikipedia.org/wiki/%D9%BE%D8%A7%DB%8C%D8%AA%D9%88%D9%86', 'https://fi.wikipedia.org/wiki/Python', 'https://fr.wikipedia.org/wiki/Python', 'https://he.wikipedia.org/wiki/%D7%A4%D7%99%D7%AA%D7%95%D7%9F', 'https://hr.wikipedia.org/wiki/Python_(razdvojba)', 'https://hu.wikipedia.org/wiki/Python_(egy%C3%A9rtelm%C5%B1s%C3%ADt%C5%91_lap)', 'https://ia.wikipedia.org/wiki/Python_(disambiguation)', 'https://id.wikipedia.org/wiki/Python', 'https://io.wikipedia.org/wiki/Pitono', 'https://is.wikipedia.org/wiki/Python_(a%C3%B0greining)', 'https://it.wikipedia.org/wiki/Python_(disambigua)', 'https://ja.wikipedia.org/wiki/%E3%83%91%E3%82%A4%E3%82%BD%E3%83%B3', 'https://ka.wikipedia.org/wiki/%E1%83%9E%E1%83%98%E1%83%97%E1%83%9D%E1%83%9C%E1%83%98_(%E1%83%9B%E1%83%A0%E1%83%90%E1%83%95%E1%83%90%E1%83%9A%E1%83%9B%E1%83%9C%E1%83%98%E1%83%A8%E1%83%95%E1%83%9C%E1%83%94%E1%83%9A%E1%83%9D%E1%83%95%E1%83%90%E1%83%9C%E1%83%98)', 'https://kg.wikipedia.org/wiki/Mboma_(nyoka)', 'https://ko.wikipedia.org/wiki/%ED%8C%8C%EC%9D%B4%EC%84%A0', 'https://la.wikipedia.org/wiki/Python_(discretiva)', 'https://lb.wikipedia.org/wiki/Python', 'https://nl.wikipedia.org/wiki/Python', 'https://no.wikipedia.org/wiki/Pyton', 'https://pl.wikipedia.org/wiki/Pyton', 'https://pt.wikipedia.org/wiki/Python_(desambigua%C3%A7%C3%A3o)', 'https://ru.wikipedia.org/wiki/Python_(%D0%B7%D0%BD%D0%B0%D1%87%D0%B5%D0%BD%D0%B8%D1%8F)', 'https://sh.wikipedia.org/wiki/Python', 'https://sk.wikipedia.org/wiki/Python', 'https://sr.wikipedia.org/wiki/%D0%9F%D0%B8%D1%82%D0%BE%D0%BD_(%D0%B2%D0%B8%D1%88%D0%B5%D0%B7%D0%BD%D0%B0%D1%87%D0%BD%D0%B0_%D0%BE%D0%B4%D1%80%D0%B5%D0%B4%D0%BD%D0%B8%D1%86%D0%B0)', 'https://sv.wikipedia.org/wiki/Pyton', 'https://th.wikipedia.org/wiki/%E0%B9%84%E0%B8%9E%E0%B8%97%E0%B8%AD%E0%B8%99', 'https://tr.wikipedia.org/wiki/Python', 'https://uk.wikipedia.org/wiki/%D0%9F%D1%96%D1%84%D0%BE%D0%BD', 'https://ur.wikipedia.org/wiki/%D9%BE%D8%A7%D8%A6%DB%8C%D8%AA%DA%BE%D9%88%D9%86', 'https://vi.wikipedia.org/wiki/Python', 'https://zh.wikipedia.org/wiki/Python_(%E6%B6%88%E6%AD%A7%E4%B9%89)', 'https://www.wikidata.org/wiki/Special:EntityPage/Q747452#sitelinks-wikipedia', 'https://foundation.wikimedia.org/wiki/Privacy_policy', 'https://www.mediawiki.org/wiki/Special:MyLanguage/How_to_contribute', 'https://stats.wikimedia.org/#/mr.wikipedia.org', 'https://foundation.wikimedia.org/wiki/Cookie_statement', 'https://wikimediafoundation.org/', 'https://www.mediawiki.org/']\n",
      "<class 'list'>\n",
      "62\n"
     ]
    }
   ],
   "source": [
    "import random\n",
    "\n",
    "# your code here\n",
    "def get_links_from_page(url):\n",
    "    response = requests.get(url)\n",
    "    soup = BeautifulSoup(response.text, \"html.parser\")\n",
    "\n",
    "    # Selecciono los tags con referencias usando CSS selectors\n",
    "    link_tags = soup.select(\"a\")\n",
    "\n",
    "    # Como no todos los tags <a> tienen atributo \"href\" utilizo try .. except\n",
    "    result = []\n",
    "    for tag in link_tags:\n",
    "        try:\n",
    "            link = tag[\"href\"]\n",
    "\n",
    "            if link.startswith(\"http\"):\n",
    "                result.append(link)\n",
    "\n",
    "        except:\n",
    "            pass\n",
    "\n",
    "    return result\n",
    "\n",
    "# Recojo la lista con los links de la pagina https://en.wikipedia.org/wiki/Python\n",
    "links_from_base_url = get_links_from_page(url)\n",
    "print(type(links_from_base_url))\n",
    "print(len(links_from_base_url))\n",
    "\n",
    "# Selecciono un link al azar\n",
    "new_url = random.choice(links_from_base_url)\n",
    "print(f\"La nueva URL es: {new_url}\\n\")\n",
    "\n",
    "# Resultado: selecciono los links de la página random que hemos seleccionado antes:\n",
    "result = get_links_from_page(new_url)\n",
    "print(result)\n",
    "print(type(result))\n",
    "print(len(result))"
   ]
  },
  {
   "cell_type": "markdown",
   "metadata": {},
   "source": [
    "#### Find the number of titles that have changed in the United States Code since its last release point."
   ]
  },
  {
   "cell_type": "code",
   "execution_count": 10,
   "metadata": {},
   "outputs": [],
   "source": [
    "# This is the url you will scrape in this exercise\n",
    "url = 'http://uscode.house.gov/download/download.shtml'"
   ]
  },
  {
   "cell_type": "code",
   "execution_count": 11,
   "metadata": {},
   "outputs": [
    {
     "name": "stdout",
     "output_type": "stream",
     "text": [
      "Number of titles that have changed: 12\n"
     ]
    }
   ],
   "source": [
    "# your code here\n",
    "response = requests.get(url)\n",
    "soup = BeautifulSoup(response.text, \"html.parser\")\n",
    "\n",
    "# Selecciono los tags con clase usctitlechanged usando CSS selectors\n",
    "items_changed = soup.select(\"div.usctitlechanged\")\n",
    "\n",
    "print(f\"Number of titles that have changed: {len(items_changed)}\")"
   ]
  },
  {
   "cell_type": "markdown",
   "metadata": {},
   "source": [
    "#### Find a Python list with the top ten FBI's Most Wanted names."
   ]
  },
  {
   "cell_type": "code",
   "execution_count": 12,
   "metadata": {},
   "outputs": [],
   "source": [
    "# This is the url you will scrape in this exercise\n",
    "url = 'https://www.fbi.gov/wanted/topten'"
   ]
  },
  {
   "cell_type": "code",
   "execution_count": 13,
   "metadata": {},
   "outputs": [
    {
     "data": {
      "text/plain": [
       "['ARNOLDO JIMENEZ (https://www.fbi.gov/wanted/topten/arnoldo-jimenez)',\n",
       " 'JASON DEREK BROWN (https://www.fbi.gov/wanted/topten/jason-derek-brown)',\n",
       " 'ALEXIS FLORES (https://www.fbi.gov/wanted/topten/alexis-flores)',\n",
       " 'JOSE RODOLFO VILLARREAL-HERNANDEZ (https://www.fbi.gov/wanted/topten/jose-rodolfo-villarreal-hernandez)',\n",
       " 'EUGENE PALMER (https://www.fbi.gov/wanted/topten/eugene-palmer)',\n",
       " 'RAFAEL CARO-QUINTERO (https://www.fbi.gov/wanted/topten/rafael-caro-quintero)',\n",
       " 'ROBERT WILLIAM FISHER (https://www.fbi.gov/wanted/topten/robert-william-fisher)',\n",
       " 'BHADRESHKUMAR CHETANBHAI PATEL (https://www.fbi.gov/wanted/topten/bhadreshkumar-chetanbhai-patel)',\n",
       " 'ALEJANDRO ROSALES CASTILLO (https://www.fbi.gov/wanted/topten/alejandro-castillo)',\n",
       " 'YASER ABDEL SAID (https://www.fbi.gov/wanted/topten/yaser-abdel-said)']"
      ]
     },
     "execution_count": 13,
     "metadata": {},
     "output_type": "execute_result"
    }
   ],
   "source": [
    "# your code here\n",
    "response = requests.get(url)\n",
    "soup = BeautifulSoup(response.text, \"html.parser\")\n",
    "\n",
    "# Selecciono los tags usando CSS selectors\n",
    "tags_most_wanted_suspects = soup.select(\"li.portal-type-person h3 a\")\n",
    "\n",
    "list_most_wanted = [f'{tag.text} ({tag[\"href\"]})' for tag in tags_most_wanted_suspects]\n",
    "list_most_wanted"
   ]
  },
  {
   "cell_type": "markdown",
   "metadata": {},
   "source": [
    "####  Display the 20 latest earthquakes info (date, time, latitude, longitude and region name) by the EMSC as a pandas dataframe."
   ]
  },
  {
   "cell_type": "code",
   "execution_count": 14,
   "metadata": {},
   "outputs": [],
   "source": [
    "# This is the url you will scrape in this exercise\n",
    "url = 'https://www.emsc-csem.org/Earthquake/'"
   ]
  },
  {
   "cell_type": "code",
   "execution_count": 15,
   "metadata": {},
   "outputs": [
    {
     "data": {
      "text/html": [
       "<div>\n",
       "<style scoped>\n",
       "    .dataframe tbody tr th:only-of-type {\n",
       "        vertical-align: middle;\n",
       "    }\n",
       "\n",
       "    .dataframe tbody tr th {\n",
       "        vertical-align: top;\n",
       "    }\n",
       "\n",
       "    .dataframe thead th {\n",
       "        text-align: right;\n",
       "    }\n",
       "</style>\n",
       "<table border=\"1\" class=\"dataframe\">\n",
       "  <thead>\n",
       "    <tr style=\"text-align: right;\">\n",
       "      <th></th>\n",
       "      <th>region</th>\n",
       "      <th>datetime</th>\n",
       "      <th>latitude</th>\n",
       "      <th>longitude</th>\n",
       "    </tr>\n",
       "  </thead>\n",
       "  <tbody>\n",
       "    <tr>\n",
       "      <th>0</th>\n",
       "      <td>SPAIN</td>\n",
       "      <td>2021-01-28 16:03:03.1</td>\n",
       "      <td>37.85  N</td>\n",
       "      <td>3.25  W</td>\n",
       "    </tr>\n",
       "    <tr>\n",
       "      <th>1</th>\n",
       "      <td>SPAIN</td>\n",
       "      <td>2021-01-28 15:52:04.4</td>\n",
       "      <td>37.22  N</td>\n",
       "      <td>3.72  W</td>\n",
       "    </tr>\n",
       "    <tr>\n",
       "      <th>2</th>\n",
       "      <td>EASTERN TURKEY</td>\n",
       "      <td>2021-01-28 15:50:24.5</td>\n",
       "      <td>39.79  N</td>\n",
       "      <td>38.94  E</td>\n",
       "    </tr>\n",
       "    <tr>\n",
       "      <th>3</th>\n",
       "      <td>CROATIA</td>\n",
       "      <td>2021-01-28 15:46:01.0</td>\n",
       "      <td>45.55  N</td>\n",
       "      <td>15.71  E</td>\n",
       "    </tr>\n",
       "    <tr>\n",
       "      <th>4</th>\n",
       "      <td>DOMINICAN REPUBLIC</td>\n",
       "      <td>2021-01-28 15:43:11.0</td>\n",
       "      <td>18.84  N</td>\n",
       "      <td>69.48  W</td>\n",
       "    </tr>\n",
       "    <tr>\n",
       "      <th>5</th>\n",
       "      <td>ISLAND OF HAWAII, HAWAII</td>\n",
       "      <td>2021-01-28 15:05:51.2</td>\n",
       "      <td>19.19  N</td>\n",
       "      <td>155.41  W</td>\n",
       "    </tr>\n",
       "    <tr>\n",
       "      <th>6</th>\n",
       "      <td>UTAH</td>\n",
       "      <td>2021-01-28 14:55:45.9</td>\n",
       "      <td>37.19  N</td>\n",
       "      <td>112.89  W</td>\n",
       "    </tr>\n",
       "    <tr>\n",
       "      <th>7</th>\n",
       "      <td>ISLAND OF HAWAII, HAWAII</td>\n",
       "      <td>2021-01-28 14:48:23.0</td>\n",
       "      <td>19.21  N</td>\n",
       "      <td>155.43  W</td>\n",
       "    </tr>\n",
       "    <tr>\n",
       "      <th>8</th>\n",
       "      <td>SPAIN</td>\n",
       "      <td>2021-01-28 14:48:12.4</td>\n",
       "      <td>37.20  N</td>\n",
       "      <td>3.70  W</td>\n",
       "    </tr>\n",
       "    <tr>\n",
       "      <th>9</th>\n",
       "      <td>SALTA, ARGENTINA</td>\n",
       "      <td>2021-01-28 14:43:46.0</td>\n",
       "      <td>24.19  S</td>\n",
       "      <td>66.43  W</td>\n",
       "    </tr>\n",
       "    <tr>\n",
       "      <th>10</th>\n",
       "      <td>SWITZERLAND</td>\n",
       "      <td>2021-01-28 14:29:24.2</td>\n",
       "      <td>47.56  N</td>\n",
       "      <td>8.17  E</td>\n",
       "    </tr>\n",
       "    <tr>\n",
       "      <th>11</th>\n",
       "      <td>PUERTO RICO REGION</td>\n",
       "      <td>2021-01-28 14:28:34.1</td>\n",
       "      <td>17.90  N</td>\n",
       "      <td>65.73  W</td>\n",
       "    </tr>\n",
       "    <tr>\n",
       "      <th>12</th>\n",
       "      <td>SWITZERLAND</td>\n",
       "      <td>2021-01-28 14:27:24.9</td>\n",
       "      <td>47.55  N</td>\n",
       "      <td>8.17  E</td>\n",
       "    </tr>\n",
       "    <tr>\n",
       "      <th>13</th>\n",
       "      <td>EASTERN TURKEY</td>\n",
       "      <td>2021-01-28 14:18:20.1</td>\n",
       "      <td>39.70  N</td>\n",
       "      <td>41.28  E</td>\n",
       "    </tr>\n",
       "    <tr>\n",
       "      <th>14</th>\n",
       "      <td>SPAIN</td>\n",
       "      <td>2021-01-28 14:15:33.5</td>\n",
       "      <td>37.19  N</td>\n",
       "      <td>3.73  W</td>\n",
       "    </tr>\n",
       "    <tr>\n",
       "      <th>15</th>\n",
       "      <td>SPAIN</td>\n",
       "      <td>2021-01-28 14:13:40.5</td>\n",
       "      <td>37.19  N</td>\n",
       "      <td>3.74  W</td>\n",
       "    </tr>\n",
       "    <tr>\n",
       "      <th>16</th>\n",
       "      <td>CROATIA</td>\n",
       "      <td>2021-01-28 14:12:23.0</td>\n",
       "      <td>45.49  N</td>\n",
       "      <td>15.98  E</td>\n",
       "    </tr>\n",
       "    <tr>\n",
       "      <th>17</th>\n",
       "      <td>SYRIA-IRAQ BORDER REGION</td>\n",
       "      <td>2021-01-28 13:55:54.1</td>\n",
       "      <td>36.25  N</td>\n",
       "      <td>41.30  E</td>\n",
       "    </tr>\n",
       "    <tr>\n",
       "      <th>18</th>\n",
       "      <td>SPAIN</td>\n",
       "      <td>2021-01-28 13:45:26.9</td>\n",
       "      <td>37.20  N</td>\n",
       "      <td>3.72  W</td>\n",
       "    </tr>\n",
       "    <tr>\n",
       "      <th>19</th>\n",
       "      <td>SPAIN</td>\n",
       "      <td>2021-01-28 13:42:20.4</td>\n",
       "      <td>37.21  N</td>\n",
       "      <td>3.68  W</td>\n",
       "    </tr>\n",
       "  </tbody>\n",
       "</table>\n",
       "</div>"
      ],
      "text/plain": [
       "                      region               datetime    latitude    longitude\n",
       "0                      SPAIN  2021-01-28 16:03:03.1  37.85  N      3.25  W  \n",
       "1                      SPAIN  2021-01-28 15:52:04.4  37.22  N      3.72  W  \n",
       "2             EASTERN TURKEY  2021-01-28 15:50:24.5  39.79  N     38.94  E  \n",
       "3                    CROATIA  2021-01-28 15:46:01.0  45.55  N     15.71  E  \n",
       "4         DOMINICAN REPUBLIC  2021-01-28 15:43:11.0  18.84  N     69.48  W  \n",
       "5   ISLAND OF HAWAII, HAWAII  2021-01-28 15:05:51.2  19.19  N    155.41  W  \n",
       "6                       UTAH  2021-01-28 14:55:45.9  37.19  N    112.89  W  \n",
       "7   ISLAND OF HAWAII, HAWAII  2021-01-28 14:48:23.0  19.21  N    155.43  W  \n",
       "8                      SPAIN  2021-01-28 14:48:12.4  37.20  N      3.70  W  \n",
       "9           SALTA, ARGENTINA  2021-01-28 14:43:46.0  24.19  S     66.43  W  \n",
       "10               SWITZERLAND  2021-01-28 14:29:24.2  47.56  N      8.17  E  \n",
       "11        PUERTO RICO REGION  2021-01-28 14:28:34.1  17.90  N     65.73  W  \n",
       "12               SWITZERLAND  2021-01-28 14:27:24.9  47.55  N      8.17  E  \n",
       "13            EASTERN TURKEY  2021-01-28 14:18:20.1  39.70  N     41.28  E  \n",
       "14                     SPAIN  2021-01-28 14:15:33.5  37.19  N      3.73  W  \n",
       "15                     SPAIN  2021-01-28 14:13:40.5  37.19  N      3.74  W  \n",
       "16                   CROATIA  2021-01-28 14:12:23.0  45.49  N     15.98  E  \n",
       "17  SYRIA-IRAQ BORDER REGION  2021-01-28 13:55:54.1  36.25  N     41.30  E  \n",
       "18                     SPAIN  2021-01-28 13:45:26.9  37.20  N      3.72  W  \n",
       "19                     SPAIN  2021-01-28 13:42:20.4  37.21  N      3.68  W  "
      ]
     },
     "metadata": {},
     "output_type": "display_data"
    }
   ],
   "source": [
    "# your code here\n",
    "def get_datetime(earthquake):\n",
    "    return earthquake.select(\"td.tabev6 a\")[0].text.replace(\"\\xa0\\xa0\\xa0\", \" \")\n",
    "\n",
    "def get_latitude(earthquake):\n",
    "    coordinates_numbers = earthquake.select(\"td.tabev1\")\n",
    "    coordinates_orientation = earthquake.select(\"td.tabev2\")\n",
    "    \n",
    "    return f\"{coordinates_numbers[0].text} {coordinates_orientation[0].text}\"\n",
    "\n",
    "def get_longitude(earthquake):\n",
    "    coordinates_numbers = earthquake.select(\"td.tabev1\")\n",
    "    coordinates_orientation = earthquake.select(\"td.tabev2\")\n",
    "    \n",
    "    return f\"{coordinates_numbers[1].text} {coordinates_orientation[1].text}\"\n",
    "\n",
    "def get_region(earthquake):\n",
    "    return earthquake.select(\"td.tb_region\")[0].text.strip()\n",
    "\n",
    "def get_earthquakes_dict(eartchquakes):\n",
    "    return {\n",
    "        \"region\": [get_region(e) for e in eartchquakes],\n",
    "        \"datetime\": [get_datetime(e) for e in eartchquakes],\n",
    "        \"latitude\": [get_latitude(e) for e in eartchquakes],\n",
    "        \"longitude\": [get_longitude(e) for e in eartchquakes]\n",
    "    }\n",
    "\n",
    "\n",
    "# Con beautifulsoup parseo la pagina:\n",
    "response = requests.get(url)\n",
    "soup = BeautifulSoup(response.text, \"html.parser\")\n",
    "\n",
    "# Selecciono los tags usando CSS selectors\n",
    "recent_earthquakes = soup.select(\"#tbody tr\")\n",
    "\n",
    "# Creo un diccionario con los 20 primeros terremotos\n",
    "earthquakes_dict = get_earthquakes_dict(recent_earthquakes[:20])\n",
    "\n",
    "# Transformo el diccionario a DataFrame\n",
    "earthquakes_df = pd.DataFrame.from_dict(earthquakes_dict)\n",
    "display(earthquakes_df)"
   ]
  },
  {
   "cell_type": "markdown",
   "metadata": {},
   "source": [
    "#### Count the number of tweets by a given Twitter account.\n",
    "Ask the user for the handle (@handle) of a twitter account. You will need to include a ***try/except block*** for account names not found. \n",
    "<br>***Hint:*** the program should count the number of tweets for any provided account."
   ]
  },
  {
   "cell_type": "code",
   "execution_count": 16,
   "metadata": {},
   "outputs": [],
   "source": [
    "# This is the url you will scrape in this exercise \n",
    "# You will need to add the account credentials to this url\n",
    "url = 'https://twitter.com/'"
   ]
  },
  {
   "cell_type": "code",
   "execution_count": 18,
   "metadata": {},
   "outputs": [
    {
     "name": "stdin",
     "output_type": "stream",
     "text": [
      "Por favor, introduce el usuario que quieres buscar:  IronhackMAD\n"
     ]
    },
    {
     "name": "stdout",
     "output_type": "stream",
     "text": [
      "La cuenta @IronhackMAD ha publicado: 1,337 twits\n"
     ]
    }
   ],
   "source": [
    "# your code here\n",
    "import time\n",
    "from selenium import webdriver\n",
    "import re\n",
    "\n",
    "# Pregunto el usuario\n",
    "usuario = input(\"Por favor, introduce el usuario que quieres buscar: \")\n",
    "# usuario = \"IronhackMAD\"\n",
    "url = f\"https://twitter.com/{usuario}\"\n",
    "\n",
    "# Abro el \"navegador\"\n",
    "driver = webdriver.Firefox()\n",
    "driver.get(url)\n",
    "\n",
    "try:\n",
    "    # Espero un ratito hasta que ha cargado la página\n",
    "    time.sleep(10)\n",
    "\n",
    "    # Busco el elemento que contiene los datos usando selectores CSS (si no hago el sleep anterior esto fallará)\n",
    "    contenedor_datos_ironhack = driver.find_element_by_css_selector('div[data-testid=\"titleContainer\"]')\n",
    "\n",
    "    # Muestro el contenido del elemento que he buscado\n",
    "    datos_cuenta = contenedor_datos_ironhack.text\n",
    "    #print(datos_cuenta)\n",
    "\n",
    "    # Busco en numero de twits dentro de esos datos\n",
    "    num_twits = re.search('([\\d,\\.K\\smil]+)\\sTweets?', datos_cuenta).group(1)\n",
    "    print(f\"La cuenta @{usuario} ha publicado: {num_twits.strip()} twits\")\n",
    "except:\n",
    "    print(f\"Ha ocurrido un error al intentar buscar datos de la cuenta @{usuario}\")\n",
    "    # Cierro el \"navegador\" si entro en la excepcion\n",
    "    driver.quit()\n",
    "\n",
    "# Cierro el \"navegador\"\n",
    "driver.quit()"
   ]
  },
  {
   "cell_type": "markdown",
   "metadata": {},
   "source": [
    "#### Number of followers of a given twitter account\n",
    "Ask the user for the handle (@handle) of a twitter account. You will need to include a ***try/except block*** for account names not found. \n",
    "<br>***Hint:*** the program should count the followers for any provided account."
   ]
  },
  {
   "cell_type": "code",
   "execution_count": 19,
   "metadata": {},
   "outputs": [],
   "source": [
    "# This is the url you will scrape in this exercise \n",
    "# You will need to add the account credentials to this url\n",
    "url = 'https://twitter.com/'"
   ]
  },
  {
   "cell_type": "code",
   "execution_count": 25,
   "metadata": {},
   "outputs": [
    {
     "name": "stdin",
     "output_type": "stream",
     "text": [
      "Por favor, introduce el usuario que quieres buscar:  el_pais\n"
     ]
    },
    {
     "name": "stdout",
     "output_type": "stream",
     "text": [
      "El usuario @el_pais tiene 7.9M Followers\n"
     ]
    }
   ],
   "source": [
    "# your code here\n",
    "# Pregunto el usuario\n",
    "usuario = input(\"Por favor, introduce el usuario que quieres buscar: \")\n",
    "\n",
    "# Por si acaso nos ha pasado el handle de Twitter con arroba, la quitamos\n",
    "usuario = usuario.replace(\"@\", \"\")\n",
    "\n",
    "# usuario = \"IronhackMAD\"\n",
    "url = f\"https://twitter.com/{usuario}\"\n",
    "\n",
    "# Abro el \"navegador\"\n",
    "driver = webdriver.Firefox()\n",
    "driver.get(url)\n",
    "\n",
    "try:\n",
    "    # Espero un ratito hasta que ha cargado la página\n",
    "    time.sleep(10)\n",
    "\n",
    "    # Busco el elemento que contiene los followers usando selectores CSS (si no hago el sleep anterior esto fallará)\n",
    "    contenedor = driver.find_element_by_css_selector(f'a[href=\"/{usuario}/followers\"]')\n",
    "\n",
    "    # Muestro el contenido del elemento que he buscado\n",
    "    followers = contenedor.text\n",
    "    print(f\"El usuario @{usuario} tiene {followers}\")\n",
    "except:\n",
    "    print(f\"Ha ocurrido un error al intentar buscar datos de la cuenta @{usuario}\")\n",
    "    # Cierro el \"navegador\" si entro en la excepcion\n",
    "    driver.quit()\n",
    "\n",
    "# Cierro el \"navegador\"\n",
    "driver.quit()"
   ]
  },
  {
   "cell_type": "markdown",
   "metadata": {},
   "source": [
    "#### List all language names and number of related articles in the order they appear in wikipedia.org."
   ]
  },
  {
   "cell_type": "code",
   "execution_count": null,
   "metadata": {},
   "outputs": [],
   "source": [
    "# This is the url you will scrape in this exercise\n",
    "url = 'https://www.wikipedia.org/'"
   ]
  },
  {
   "cell_type": "code",
   "execution_count": null,
   "metadata": {},
   "outputs": [],
   "source": [
    "# your code here"
   ]
  },
  {
   "cell_type": "markdown",
   "metadata": {},
   "source": [
    "#### A list with the different kind of datasets available in data.gov.uk."
   ]
  },
  {
   "cell_type": "code",
   "execution_count": null,
   "metadata": {},
   "outputs": [],
   "source": [
    "# This is the url you will scrape in this exercise\n",
    "url = 'https://data.gov.uk/'"
   ]
  },
  {
   "cell_type": "code",
   "execution_count": null,
   "metadata": {},
   "outputs": [],
   "source": [
    "# your code here"
   ]
  },
  {
   "cell_type": "markdown",
   "metadata": {},
   "source": [
    "#### Display the top 10 languages by number of native speakers stored in a pandas dataframe."
   ]
  },
  {
   "cell_type": "code",
   "execution_count": null,
   "metadata": {},
   "outputs": [],
   "source": [
    "# This is the url you will scrape in this exercise\n",
    "url = 'https://en.wikipedia.org/wiki/List_of_languages_by_number_of_native_speakers'"
   ]
  },
  {
   "cell_type": "code",
   "execution_count": null,
   "metadata": {},
   "outputs": [],
   "source": [
    "# your code here"
   ]
  },
  {
   "cell_type": "markdown",
   "metadata": {},
   "source": [
    "## Bonus\n",
    "#### Scrape a certain number of tweets of a given Twitter account."
   ]
  },
  {
   "cell_type": "code",
   "execution_count": null,
   "metadata": {},
   "outputs": [],
   "source": [
    "# This is the url you will scrape in this exercise \n",
    "# You will need to add the account credentials to this url\n",
    "url = 'https://twitter.com/'"
   ]
  },
  {
   "cell_type": "code",
   "execution_count": null,
   "metadata": {},
   "outputs": [],
   "source": [
    "# your code here"
   ]
  },
  {
   "cell_type": "markdown",
   "metadata": {},
   "source": [
    "#### Display IMDB's top 250 data (movie name, initial release, director name and stars) as a pandas dataframe."
   ]
  },
  {
   "cell_type": "code",
   "execution_count": null,
   "metadata": {},
   "outputs": [],
   "source": [
    "# This is the url you will scrape in this exercise \n",
    "url = 'https://www.imdb.com/chart/top'"
   ]
  },
  {
   "cell_type": "code",
   "execution_count": null,
   "metadata": {},
   "outputs": [],
   "source": [
    "# your code here"
   ]
  },
  {
   "cell_type": "markdown",
   "metadata": {},
   "source": [
    "#### Display the movie name, year and a brief summary of the top 10 random movies (IMDB) as a pandas dataframe."
   ]
  },
  {
   "cell_type": "code",
   "execution_count": null,
   "metadata": {},
   "outputs": [],
   "source": [
    "#This is the url you will scrape in this exercise\n",
    "url = 'http://www.imdb.com/chart/top'"
   ]
  },
  {
   "cell_type": "code",
   "execution_count": null,
   "metadata": {},
   "outputs": [],
   "source": [
    "# your code here"
   ]
  },
  {
   "cell_type": "markdown",
   "metadata": {},
   "source": [
    "#### Find the live weather report (temperature, wind speed, description and weather) of a given city."
   ]
  },
  {
   "cell_type": "code",
   "execution_count": null,
   "metadata": {},
   "outputs": [],
   "source": [
    "#https://openweathermap.org/current\n",
    "city = input('Enter the city: ')\n",
    "url = 'http://api.openweathermap.org/data/2.5/weather?'+'q='+city+'&APPID=b35975e18dc93725acb092f7272cc6b8&units=metric'"
   ]
  },
  {
   "cell_type": "code",
   "execution_count": null,
   "metadata": {},
   "outputs": [],
   "source": [
    "# your code here"
   ]
  },
  {
   "cell_type": "markdown",
   "metadata": {},
   "source": [
    "#### Find the book name, price and stock availability as a pandas dataframe."
   ]
  },
  {
   "cell_type": "code",
   "execution_count": null,
   "metadata": {},
   "outputs": [],
   "source": [
    "# This is the url you will scrape in this exercise. \n",
    "# It is a fictional bookstore created to be scraped. \n",
    "url = 'http://books.toscrape.com/'"
   ]
  },
  {
   "cell_type": "code",
   "execution_count": null,
   "metadata": {},
   "outputs": [],
   "source": [
    "# your code here"
   ]
  }
 ],
 "metadata": {
  "kernelspec": {
   "display_name": "Python [conda env:ironhack_env]",
   "language": "python",
   "name": "conda-env-ironhack_env-py"
  },
  "language_info": {
   "codemirror_mode": {
    "name": "ipython",
    "version": 3
   },
   "file_extension": ".py",
   "mimetype": "text/x-python",
   "name": "python",
   "nbconvert_exporter": "python",
   "pygments_lexer": "ipython3",
   "version": "3.8.5"
  }
 },
 "nbformat": 4,
 "nbformat_minor": 4
}
